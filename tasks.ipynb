{
 "cells": [
  {
   "cell_type": "code",
   "execution_count": 1,
   "metadata": {},
   "outputs": [],
   "source": [
    "import pandas as pd"
   ]
  },
  {
   "cell_type": "code",
   "execution_count": 2,
   "metadata": {},
   "outputs": [],
   "source": [
    "df=pd.read_excel(\"/Users/srisabarish/Downloads/sales_data.xlsx\")"
   ]
  },
  {
   "cell_type": "code",
   "execution_count": 3,
   "metadata": {},
   "outputs": [
    {
     "name": "stdout",
     "output_type": "stream",
     "text": [
      "Date                0\n",
      "Day                 0\n",
      "Month               0\n",
      "Year                0\n",
      "Customer_Age        0\n",
      "Age_Group           0\n",
      "Customer_Gender     0\n",
      "Country             0\n",
      "State               0\n",
      "Product_Category    0\n",
      "Sub_Category        0\n",
      "Product             0\n",
      "Order_Quantity      0\n",
      "Unit_Cost           0\n",
      "Unit_Price          0\n",
      "Profit              0\n",
      "Cost                0\n",
      "Revenue             0\n",
      "dtype: int64\n"
     ]
    }
   ],
   "source": [
    "print(df.isnull().sum())"
   ]
  },
  {
   "cell_type": "code",
   "execution_count": 4,
   "metadata": {},
   "outputs": [
    {
     "name": "stdout",
     "output_type": "stream",
     "text": [
      "Day                 15.665753\n",
      "Year              2014.401739\n",
      "Customer_Age        35.919212\n",
      "Order_Quantity      11.901660\n",
      "Unit_Cost          267.296366\n",
      "Unit_Price         452.938427\n",
      "Profit             285.051665\n",
      "Cost               469.318695\n",
      "Revenue            754.370360\n",
      "dtype: float64\n"
     ]
    }
   ],
   "source": [
    "print(df.mean(numeric_only=True))"
   ]
  },
  {
   "cell_type": "code",
   "execution_count": 5,
   "metadata": {},
   "outputs": [
    {
     "name": "stdout",
     "output_type": "stream",
     "text": [
      "Day                 16.0\n",
      "Year              2014.0\n",
      "Customer_Age        35.0\n",
      "Order_Quantity      10.0\n",
      "Unit_Cost            9.0\n",
      "Unit_Price          24.0\n",
      "Profit             101.0\n",
      "Cost               108.0\n",
      "Revenue            223.0\n",
      "dtype: float64\n"
     ]
    }
   ],
   "source": [
    "print(df.median(numeric_only=True))"
   ]
  },
  {
   "cell_type": "code",
   "execution_count": 6,
   "metadata": {},
   "outputs": [
    {
     "name": "stdout",
     "output_type": "stream",
     "text": [
      "    Day  Year  Customer_Age  Order_Quantity  Unit_Cost  Unit_Price  Profit  \\\n",
      "0  24.0  2014          31.0             1.0        2.0         5.0     3.0   \n",
      "1   NaN  2016           NaN             NaN        NaN         NaN     NaN   \n",
      "\n",
      "     Cost  Revenue  \n",
      "0  1252.0     35.0  \n",
      "1     NaN      NaN  \n"
     ]
    }
   ],
   "source": [
    "print(df.mode(numeric_only=True))"
   ]
  },
  {
   "cell_type": "code",
   "execution_count": 12,
   "metadata": {},
   "outputs": [
    {
     "name": "stdout",
     "output_type": "stream",
     "text": [
      "Total Product Categories: 3\n"
     ]
    }
   ],
   "source": [
    "products_category=df['Product_Category'].nunique()\n",
    "print(f\"Total Product Categories: {products_category}\")"
   ]
  },
  {
   "cell_type": "code",
   "execution_count": 9,
   "metadata": {},
   "outputs": [
    {
     "name": "stdout",
     "output_type": "stream",
     "text": [
      "Total Product sub Categories: 17\n"
     ]
    }
   ],
   "source": [
    "products_sub_category=df['Sub_Category'].nunique()\n",
    "print(f\"Total Product sub Categories: {products_sub_category}\")"
   ]
  },
  {
   "cell_type": "code",
   "execution_count": 10,
   "metadata": {},
   "outputs": [
    {
     "name": "stdout",
     "output_type": "stream",
     "text": [
      " Total product categories: 3\n"
     ]
    }
   ],
   "source": [
    "product_categories=df['Product'].nunique()\n",
    "print(f\" Total product categories: {products_category}\")"
   ]
  },
  {
   "cell_type": "code",
   "execution_count": null,
   "metadata": {},
   "outputs": [],
   "source": []
  }
 ],
 "metadata": {
  "kernelspec": {
   "display_name": "Python 3",
   "language": "python",
   "name": "python3"
  },
  "language_info": {
   "codemirror_mode": {
    "name": "ipython",
    "version": 3
   },
   "file_extension": ".py",
   "mimetype": "text/x-python",
   "name": "python",
   "nbconvert_exporter": "python",
   "pygments_lexer": "ipython3",
   "version": "3.12.7"
  }
 },
 "nbformat": 4,
 "nbformat_minor": 2
}
